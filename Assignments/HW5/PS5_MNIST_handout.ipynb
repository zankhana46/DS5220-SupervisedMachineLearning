{
 "cells": [
  {
   "cell_type": "code",
   "execution_count": 25,
   "id": "three-denmark",
   "metadata": {},
   "outputs": [],
   "source": [
    "# Setup\n",
    "import torch\n",
    "import matplotlib.pyplot as plt\n",
    "import torchvision\n",
    "from torchvision import datasets, transforms\n",
    "from tqdm import trange\n",
    "import numpy as np\n",
    "\n",
    "%matplotlib inline\n",
    "DEVICE = 'cuda' if torch.cuda.is_available() else 'cpu'\n",
    "\n",
    "# Set random seed for reproducibility\n",
    "seed = 1234\n",
    "# cuDNN uses nondeterministic algorithms, set some options for reproducibility\n",
    "torch.backends.cudnn.deterministic = True\n",
    "torch.backends.cudnn.benchmark = False\n",
    "torch.manual_seed(seed)\n",
    "\n",
    "# Initial transform (convert to PyTorch Tensor only)\n",
    "transform = transforms.Compose([\n",
    "    transforms.ToTensor(),\n",
    "])\n",
    "#torchvision.datasets.MNIST(root=root_dir,download=True) first download the MNIST data and set the root directory accordingly\n",
    "root_dir = './data'\n",
    "train_data = datasets.MNIST(root_dir, train=True, download=False, transform=transform)\n",
    "test_data = datasets.MNIST(root_dir, train=False, download=False, transform=transform)\n",
    "\n",
    "X = train_data.data.numpy()\n",
    "Y = train_data.targets.numpy()\n",
    "\n",
    "test_data_array = test_data.data.numpy()\n",
    "test_set_labels = test_data.targets.numpy()\n",
    "\n",
    "# reshaping the data\n",
    "# X = np.reshape(X, (60000, 28*28))\n",
    "# X_test = np.reshape(test_data_array, (10000, 28*28))"
   ]
  },
  {
   "cell_type": "code",
   "execution_count": 27,
   "id": "known-illinois",
   "metadata": {},
   "outputs": [],
   "source": [
    "# Train-Validation split\n",
    "\n",
    "rand = np.arange(60000)\n",
    "np.random.shuffle(rand)\n",
    "train_no = rand[:50000]\n",
    "\n",
    "val_no = np.setdiff1d(rand,train_no)\n",
    "\n",
    "X_train, X_val = X[train_no, :], X[val_no, :]\n",
    "Y_train, Y_val = Y[train_no], Y[val_no]"
   ]
  },
  {
   "cell_type": "code",
   "execution_count": null,
   "id": "motivated-organizer",
   "metadata": {},
   "outputs": [],
   "source": [
    "# PCA\n",
    "\n",
    "from sklearn.decomposition import PCA\n",
    "\n",
    "# Write your implementation below\n"
   ]
  },
  {
   "cell_type": "code",
   "execution_count": null,
   "id": "painted-transformation",
   "metadata": {},
   "outputs": [],
   "source": [
    "# PCA followed by logistic regression\n",
    "\n",
    "from sklearn.linear_model import LogisticRegression\n",
    "\n",
    "# Write your implementation below\n"
   ]
  },
  {
   "cell_type": "code",
   "execution_count": null,
   "id": "derived-turkey",
   "metadata": {},
   "outputs": [],
   "source": [
    "# select number of components\n",
    "\n",
    "num_components = np.arange(20, 201, 20)\n",
    "\n",
    "# Write your implementation below\n"
   ]
  }
 ],
 "metadata": {
  "kernelspec": {
   "display_name": "Python 3 (ipykernel)",
   "language": "python",
   "name": "python3"
  },
  "language_info": {
   "codemirror_mode": {
    "name": "ipython",
    "version": 3
   },
   "file_extension": ".py",
   "mimetype": "text/x-python",
   "name": "python",
   "nbconvert_exporter": "python",
   "pygments_lexer": "ipython3",
   "version": "3.12.1"
  }
 },
 "nbformat": 4,
 "nbformat_minor": 5
}
