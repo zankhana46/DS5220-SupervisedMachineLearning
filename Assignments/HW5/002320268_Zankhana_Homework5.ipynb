{
 "cells": [
  {
   "cell_type": "markdown",
   "id": "432eb025-6e79-4fa5-9fdf-5210973e3336",
   "metadata": {},
   "source": [
    "# HOMEWORK 5\n",
    "## Zankhana Mehta\n",
    "## 002320268\n",
    "## mehta.zan@northeastern.edu\n",
    "\n",
    "### __QUESTION 1__"
   ]
  },
  {
   "cell_type": "code",
   "execution_count": 15,
   "id": "23a13648-db50-4a33-996a-26753376fa89",
   "metadata": {},
   "outputs": [],
   "source": [
    "import torch\n",
    "import matplotlib.pyplot as plt\n",
    "import torchvision\n",
    "from torchvision import datasets, transforms\n",
    "from tqdm import trange\n",
    "import numpy as np\n",
    "import matplotlib.pyplot as plt"
   ]
  },
  {
   "cell_type": "code",
   "execution_count": 2,
   "id": "3838e239-fd61-4251-9fd1-49f734f56e58",
   "metadata": {},
   "outputs": [],
   "source": [
    "%matplotlib inline\n",
    "DEVICE = 'cuda' if torch.cuda.is_available() else 'cpu'\n",
    "\n",
    "# reshaping the data\n",
    "# X = np.reshape(X, (60000, 28*28))\n",
    "# X_test = np.reshape(test_data_array, (10000, 28*28))"
   ]
  },
  {
   "cell_type": "code",
   "execution_count": 4,
   "id": "f823a420-3f30-4b70-9900-715ce2f96b12",
   "metadata": {},
   "outputs": [
    {
     "data": {
      "text/plain": [
       "<torch._C.Generator at 0x11eab65b0>"
      ]
     },
     "execution_count": 4,
     "metadata": {},
     "output_type": "execute_result"
    }
   ],
   "source": [
    "# Set random seed for reproducibility\n",
    "seed = 1234\n",
    "# cuDNN uses nondeterministic algorithms, set some options for reproducibility\n",
    "torch.backends.cudnn.deterministic = True\n",
    "torch.backends.cudnn.benchmark = False\n",
    "torch.manual_seed(seed)"
   ]
  },
  {
   "cell_type": "code",
   "execution_count": 8,
   "id": "a98bc9bb-61db-4f5c-88eb-ef2aad494a7a",
   "metadata": {},
   "outputs": [
    {
     "name": "stdout",
     "output_type": "stream",
     "text": [
      "Downloading http://yann.lecun.com/exdb/mnist/train-images-idx3-ubyte.gz\n",
      "Failed to download (trying next):\n",
      "HTTP Error 403: Forbidden\n",
      "\n",
      "Downloading https://ossci-datasets.s3.amazonaws.com/mnist/train-images-idx3-ubyte.gz\n",
      "Downloading https://ossci-datasets.s3.amazonaws.com/mnist/train-images-idx3-ubyte.gz to ./data/MNIST/raw/train-images-idx3-ubyte.gz\n"
     ]
    },
    {
     "name": "stderr",
     "output_type": "stream",
     "text": [
      "100%|██████████████████████████████████████| 9.91M/9.91M [00:02<00:00, 3.39MB/s]\n"
     ]
    },
    {
     "name": "stdout",
     "output_type": "stream",
     "text": [
      "Extracting ./data/MNIST/raw/train-images-idx3-ubyte.gz to ./data/MNIST/raw\n",
      "\n",
      "Downloading http://yann.lecun.com/exdb/mnist/train-labels-idx1-ubyte.gz\n",
      "Failed to download (trying next):\n",
      "HTTP Error 403: Forbidden\n",
      "\n",
      "Downloading https://ossci-datasets.s3.amazonaws.com/mnist/train-labels-idx1-ubyte.gz\n",
      "Downloading https://ossci-datasets.s3.amazonaws.com/mnist/train-labels-idx1-ubyte.gz to ./data/MNIST/raw/train-labels-idx1-ubyte.gz\n"
     ]
    },
    {
     "name": "stderr",
     "output_type": "stream",
     "text": [
      "100%|██████████████████████████████████████| 28.9k/28.9k [00:00<00:00, 1.04MB/s]\n"
     ]
    },
    {
     "name": "stdout",
     "output_type": "stream",
     "text": [
      "Extracting ./data/MNIST/raw/train-labels-idx1-ubyte.gz to ./data/MNIST/raw\n",
      "\n",
      "Downloading http://yann.lecun.com/exdb/mnist/t10k-images-idx3-ubyte.gz\n",
      "Failed to download (trying next):\n",
      "HTTP Error 403: Forbidden\n",
      "\n",
      "Downloading https://ossci-datasets.s3.amazonaws.com/mnist/t10k-images-idx3-ubyte.gz\n",
      "Downloading https://ossci-datasets.s3.amazonaws.com/mnist/t10k-images-idx3-ubyte.gz to ./data/MNIST/raw/t10k-images-idx3-ubyte.gz\n"
     ]
    },
    {
     "name": "stderr",
     "output_type": "stream",
     "text": [
      "100%|███████████████████████████████████████| 1.65M/1.65M [00:01<00:00, 917kB/s]\n"
     ]
    },
    {
     "name": "stdout",
     "output_type": "stream",
     "text": [
      "Extracting ./data/MNIST/raw/t10k-images-idx3-ubyte.gz to ./data/MNIST/raw\n",
      "\n",
      "Downloading http://yann.lecun.com/exdb/mnist/t10k-labels-idx1-ubyte.gz\n",
      "Failed to download (trying next):\n",
      "HTTP Error 403: Forbidden\n",
      "\n",
      "Downloading https://ossci-datasets.s3.amazonaws.com/mnist/t10k-labels-idx1-ubyte.gz\n",
      "Downloading https://ossci-datasets.s3.amazonaws.com/mnist/t10k-labels-idx1-ubyte.gz to ./data/MNIST/raw/t10k-labels-idx1-ubyte.gz\n"
     ]
    },
    {
     "name": "stderr",
     "output_type": "stream",
     "text": [
      "100%|██████████████████████████████████████| 4.54k/4.54k [00:00<00:00, 3.22MB/s]"
     ]
    },
    {
     "name": "stdout",
     "output_type": "stream",
     "text": [
      "Extracting ./data/MNIST/raw/t10k-labels-idx1-ubyte.gz to ./data/MNIST/raw\n",
      "\n"
     ]
    },
    {
     "name": "stderr",
     "output_type": "stream",
     "text": [
      "\n"
     ]
    }
   ],
   "source": [
    "# Initial transform (convert to PyTorch Tensor only)\n",
    "transform = transforms.Compose([\n",
    "    transforms.ToTensor(),\n",
    "])\n",
    "#torchvision.datasets.MNIST(root=root_dir,download=True) first download the MNIST data and set the root directory accordingly\n",
    "root_dir = './data'\n",
    "train_data = datasets.MNIST(root_dir, train=True, download=True, transform=transform)\n",
    "test_data = datasets.MNIST(root_dir, train=False, download=True, transform=transform)\n",
    "\n",
    "X = train_data.data.numpy()\n",
    "Y = train_data.targets.numpy()\n",
    "\n",
    "test_data_array = test_data.data.numpy()\n",
    "test_set_labels = test_data.targets.numpy()"
   ]
  },
  {
   "cell_type": "code",
   "execution_count": 12,
   "id": "f087a3f2-f1e9-4da6-8068-a55e483f978a",
   "metadata": {},
   "outputs": [
    {
     "name": "stdout",
     "output_type": "stream",
     "text": [
      "Shape of Training Data (Images): (60000, 28, 28)\n",
      "Shape of Training Data (Labels): (60000,)\n",
      "Shape of Test Data (Images): (10000, 28, 28)\n",
      "Shape of Test Data (Labels): (10000,)\n"
     ]
    }
   ],
   "source": [
    "print(f\"Shape of Training Data (Images): {X.shape}\")\n",
    "print(f\"Shape of Training Data (Labels): {Y.shape}\")\n",
    "print(f\"Shape of Test Data (Images): {test_data_array.shape}\")\n",
    "print(f\"Shape of Test Data (Labels): {test_set_labels.shape}\")"
   ]
  },
  {
   "cell_type": "code",
   "execution_count": 16,
   "id": "7f6a156a-d6c5-4f33-a90d-87806bb9d898",
   "metadata": {},
   "outputs": [
    {
     "data": {
      "image/png": "[encoded data removed]",
      "text/plain": [
       "<Figure size 1500x300 with 10 Axes>"
      ]
     },
     "metadata": {},
     "output_type": "display_data"
    }
   ],
   "source": [
    "def display_sample_images(data, labels, n=10):\n",
    "    plt.figure(figsize=(15, 3))\n",
    "    for i in range(n):\n",
    "        plt.subplot(1, n, i + 1)\n",
    "        plt.imshow(data[i], cmap='gray')\n",
    "        plt.title(f\"Label: {labels[i]}\")\n",
    "        plt.axis('off')\n",
    "    plt.show()\n",
    "\n",
    "# Display sample images\n",
    "display_sample_images(X, Y)"
   ]
  },
  {
   "cell_type": "code",
   "execution_count": 18,
   "id": "fb3711bc-e694-4d7f-8a4e-20adf900c5ac",
   "metadata": {},
   "outputs": [
    {
     "name": "stdout",
     "output_type": "stream",
     "text": [
      "Reshaped Training Data Shape: (60000, 784)\n",
      "Reshaped Test Data Shape: (10000, 784)\n"
     ]
    }
   ],
   "source": [
    "# reshaping the data\n",
    "X = np.reshape(X, (60000, 28 * 28))\n",
    "X_test = np.reshape(test_data_array, (10000, 28 * 28))\n",
    "\n",
    "# Check the new shapes\n",
    "print(f\"Reshaped Training Data Shape: {X.shape}\")  # Expected: (60000, 784)\n",
    "print(f\"Reshaped Test Data Shape: {X_test.shape}\")"
   ]
  },
  {
   "cell_type": "code",
   "execution_count": 20,
   "id": "3bee8366-b542-4b10-843c-15544efba849",
   "metadata": {},
   "outputs": [],
   "source": [
    "# Train-Validation split\n",
    "\n",
    "rand = np.arange(60000)\n",
    "np.random.shuffle(rand)\n",
    "train_no = rand[:50000]\n",
    "\n",
    "val_no = np.setdiff1d(rand,train_no)\n",
    "\n",
    "X_train, X_val = X[train_no, :], X[val_no, :]\n",
    "Y_train, Y_val = Y[train_no], Y[val_no]"
   ]
  },
  {
   "cell_type": "code",
   "execution_count": 22,
   "id": "d479e1dc-fd3f-420e-aea5-576566945772",
   "metadata": {},
   "outputs": [
    {
     "name": "stdout",
     "output_type": "stream",
     "text": [
      "X_train shape: (50000, 784)\n",
      "Y_train shape: (50000,)\n",
      "X_val shape: (10000, 784)\n",
      "Y_val shape: (10000,)\n"
     ]
    }
   ],
   "source": [
    "print(f\"X_train shape: {X_train.shape}\")\n",
    "print(f\"Y_train shape: {Y_train.shape}\")\n",
    "print(f\"X_val shape: {X_val.shape}\")\n",
    "print(f\"Y_val shape: {Y_val.shape}\")"
   ]
  },
  {
   "cell_type": "markdown",
   "id": "40bf99bf-dd6f-48de-ba6e-cea7ff2327c9",
   "metadata": {},
   "source": [
    "### Part a"
   ]
  },
  {
   "cell_type": "code",
   "execution_count": 28,
   "id": "33c3546a-1c59-4650-a52b-537d7ea4b872",
   "metadata": {},
   "outputs": [
    {
     "name": "stdout",
     "output_type": "stream",
     "text": [
      "Top 20 Eigenvalues:\n",
      "[129303.76281634 110306.41542987 102780.60257534  95822.04114557\n",
      "  91183.71634406  85981.74649481  75079.7557979   70368.34576806\n",
      "  68979.38949861  63656.69806283  60205.74178602  58877.38691992\n",
      "  54160.07687215  53902.26736237  52044.89229056  50459.35977535\n",
      "  47627.45219215  46746.61892185  45095.84757553  44430.02798978]\n",
      "\n",
      "Explained Variance Ratios (Top 20 Components):\n",
      "[0.09750292 0.07095726 0.06160524 0.05354589 0.04848751 0.04311296\n",
      " 0.03287313 0.02887686 0.02774815 0.02363108 0.02113835 0.02021587\n",
      " 0.01710621 0.01694374 0.01579616 0.01484837 0.01322848 0.01274371\n",
      " 0.01185956 0.01151194]\n",
      "\n",
      "Cumulative Explained Variance:\n",
      "[0.09750292 0.16846019 0.23006543 0.28361132 0.33209883 0.37521179\n",
      " 0.40808491 0.43696178 0.46470993 0.488341   0.50947936 0.52969522\n",
      " 0.54680144 0.56374518 0.57954134 0.59438971 0.60761819 0.6203619\n",
      " 0.63222145 0.64373339]\n"
     ]
    }
   ],
   "source": [
    "# PCA\n",
    "from sklearn.decomposition import PCA\n",
    "\n",
    "# Apply PCA to the training dataset\n",
    "pca = PCA(n_components=20)\n",
    "X_train_pca = pca.fit_transform(X_train)\n",
    "\n",
    "# Apply the same transformation to validation and test sets\n",
    "X_val_pca = pca.transform(X_val)\n",
    "X_test_pca = pca.transform(X_test)\n",
    "\n",
    "# Print the top 20 eigenvalues\n",
    "print(\"Top 20 Eigenvalues:\")\n",
    "print(pca.singular_values_)\n",
    "\n",
    "# Print the explained variance ratios\n",
    "print(\"\\nExplained Variance Ratios (Top 20 Components):\")\n",
    "print(pca.explained_variance_ratio_)\n",
    "\n",
    "# Print the cumulative explained variance to see how much total variance is captured\n",
    "print(\"\\nCumulative Explained Variance:\")\n",
    "print(np.cumsum(pca.explained_variance_ratio_))"
   ]
  },
  {
   "cell_type": "markdown",
   "id": "0a6f48f8-24c4-4784-a05c-9607bd824775",
   "metadata": {},
   "source": [
    "### Part b"
   ]
  },
  {
   "cell_type": "code",
   "execution_count": 32,
   "id": "1fddc735-2dc6-44f4-b16c-4a93c2d9e913",
   "metadata": {},
   "outputs": [
    {
     "name": "stdout",
     "output_type": "stream",
     "text": [
      "Training Accuracy: 0.8749\n",
      "Validation Accuracy: 0.8781\n",
      "Test Accuracy: 0.8809\n"
     ]
    },
    {
     "name": "stderr",
     "output_type": "stream",
     "text": [
      "/opt/anaconda3/lib/python3.12/site-packages/sklearn/linear_model/_logistic.py:469: ConvergenceWarning: lbfgs failed to converge (status=1):\n",
      "STOP: TOTAL NO. of ITERATIONS REACHED LIMIT.\n",
      "\n",
      "Increase the number of iterations (max_iter) or scale the data as shown in:\n",
      "    https://scikit-learn.org/stable/modules/preprocessing.html\n",
      "Please also refer to the documentation for alternative solver options:\n",
      "    https://scikit-learn.org/stable/modules/linear_model.html#logistic-regression\n",
      "  n_iter_i = _check_optimize_result(\n"
     ]
    }
   ],
   "source": [
    "from sklearn.linear_model import LogisticRegression\n",
    "from sklearn.metrics import accuracy_score\n",
    "\n",
    "# Initialize the Logistic Regression model with a higher max_iter to avoid convergence warnings\n",
    "log_reg = LogisticRegression(max_iter=2000, random_state=seed)\n",
    "\n",
    "# Train the Logistic Regression model on the training data\n",
    "log_reg.fit(X_train_pca, Y_train)\n",
    "\n",
    "# Predict on the training data\n",
    "train_preds = log_reg.predict(X_train_pca)\n",
    "train_accuracy = accuracy_score(Y_train, train_preds)\n",
    "print(f\"Training Accuracy: {train_accuracy:.4f}\")\n",
    "\n",
    "# Predict on the validation data\n",
    "val_preds = log_reg.predict(X_val_pca)\n",
    "val_accuracy = accuracy_score(Y_val, val_preds)\n",
    "print(f\"Validation Accuracy: {val_accuracy:.4f}\")\n",
    "\n",
    "# Predict on the test data\n",
    "test_preds = log_reg.predict(X_test_pca)\n",
    "test_accuracy = accuracy_score(test_set_labels, test_preds)\n",
    "print(f\"Test Accuracy: {test_accuracy:.4f}\")"
   ]
  },
  {
   "cell_type": "markdown",
   "id": "74ce7524-2d0f-4360-af09-7a78c7c0fb65",
   "metadata": {},
   "source": [
    "### Part c"
   ]
  },
  {
   "cell_type": "code",
   "execution_count": 36,
   "id": "416eb79e-0bb8-4c88-a6ac-2485aef111c0",
   "metadata": {},
   "outputs": [
    {
     "name": "stderr",
     "output_type": "stream",
     "text": [
      "/opt/anaconda3/lib/python3.12/site-packages/sklearn/linear_model/_logistic.py:469: ConvergenceWarning: lbfgs failed to converge (status=1):\n",
      "STOP: TOTAL NO. of ITERATIONS REACHED LIMIT.\n",
      "\n",
      "Increase the number of iterations (max_iter) or scale the data as shown in:\n",
      "    https://scikit-learn.org/stable/modules/preprocessing.html\n",
      "Please also refer to the documentation for alternative solver options:\n",
      "    https://scikit-learn.org/stable/modules/linear_model.html#logistic-regression\n",
      "  n_iter_i = _check_optimize_result(\n",
      "/opt/anaconda3/lib/python3.12/site-packages/sklearn/linear_model/_logistic.py:469: ConvergenceWarning: lbfgs failed to converge (status=1):\n",
      "STOP: TOTAL NO. of ITERATIONS REACHED LIMIT.\n",
      "\n",
      "Increase the number of iterations (max_iter) or scale the data as shown in:\n",
      "    https://scikit-learn.org/stable/modules/preprocessing.html\n",
      "Please also refer to the documentation for alternative solver options:\n",
      "    https://scikit-learn.org/stable/modules/linear_model.html#logistic-regression\n",
      "  n_iter_i = _check_optimize_result(\n",
      "/opt/anaconda3/lib/python3.12/site-packages/sklearn/linear_model/_logistic.py:469: ConvergenceWarning: lbfgs failed to converge (status=1):\n",
      "STOP: TOTAL NO. of ITERATIONS REACHED LIMIT.\n",
      "\n",
      "Increase the number of iterations (max_iter) or scale the data as shown in:\n",
      "    https://scikit-learn.org/stable/modules/preprocessing.html\n",
      "Please also refer to the documentation for alternative solver options:\n",
      "    https://scikit-learn.org/stable/modules/linear_model.html#logistic-regression\n",
      "  n_iter_i = _check_optimize_result(\n",
      "/opt/anaconda3/lib/python3.12/site-packages/sklearn/linear_model/_logistic.py:469: ConvergenceWarning: lbfgs failed to converge (status=1):\n",
      "STOP: TOTAL NO. of ITERATIONS REACHED LIMIT.\n",
      "\n",
      "Increase the number of iterations (max_iter) or scale the data as shown in:\n",
      "    https://scikit-learn.org/stable/modules/preprocessing.html\n",
      "Please also refer to the documentation for alternative solver options:\n",
      "    https://scikit-learn.org/stable/modules/linear_model.html#logistic-regression\n",
      "  n_iter_i = _check_optimize_result(\n",
      "/opt/anaconda3/lib/python3.12/site-packages/sklearn/linear_model/_logistic.py:469: ConvergenceWarning: lbfgs failed to converge (status=1):\n",
      "STOP: TOTAL NO. of ITERATIONS REACHED LIMIT.\n",
      "\n",
      "Increase the number of iterations (max_iter) or scale the data as shown in:\n",
      "    https://scikit-learn.org/stable/modules/preprocessing.html\n",
      "Please also refer to the documentation for alternative solver options:\n",
      "    https://scikit-learn.org/stable/modules/linear_model.html#logistic-regression\n",
      "  n_iter_i = _check_optimize_result(\n",
      "/opt/anaconda3/lib/python3.12/site-packages/sklearn/linear_model/_logistic.py:469: ConvergenceWarning: lbfgs failed to converge (status=1):\n",
      "STOP: TOTAL NO. of ITERATIONS REACHED LIMIT.\n",
      "\n",
      "Increase the number of iterations (max_iter) or scale the data as shown in:\n",
      "    https://scikit-learn.org/stable/modules/preprocessing.html\n",
      "Please also refer to the documentation for alternative solver options:\n",
      "    https://scikit-learn.org/stable/modules/linear_model.html#logistic-regression\n",
      "  n_iter_i = _check_optimize_result(\n",
      "/opt/anaconda3/lib/python3.12/site-packages/sklearn/linear_model/_logistic.py:469: ConvergenceWarning: lbfgs failed to converge (status=1):\n",
      "STOP: TOTAL NO. of ITERATIONS REACHED LIMIT.\n",
      "\n",
      "Increase the number of iterations (max_iter) or scale the data as shown in:\n",
      "    https://scikit-learn.org/stable/modules/preprocessing.html\n",
      "Please also refer to the documentation for alternative solver options:\n",
      "    https://scikit-learn.org/stable/modules/linear_model.html#logistic-regression\n",
      "  n_iter_i = _check_optimize_result(\n",
      "/opt/anaconda3/lib/python3.12/site-packages/sklearn/linear_model/_logistic.py:469: ConvergenceWarning: lbfgs failed to converge (status=1):\n",
      "STOP: TOTAL NO. of ITERATIONS REACHED LIMIT.\n",
      "\n",
      "Increase the number of iterations (max_iter) or scale the data as shown in:\n",
      "    https://scikit-learn.org/stable/modules/preprocessing.html\n",
      "Please also refer to the documentation for alternative solver options:\n",
      "    https://scikit-learn.org/stable/modules/linear_model.html#logistic-regression\n",
      "  n_iter_i = _check_optimize_result(\n",
      "/opt/anaconda3/lib/python3.12/site-packages/sklearn/linear_model/_logistic.py:469: ConvergenceWarning: lbfgs failed to converge (status=1):\n",
      "STOP: TOTAL NO. of ITERATIONS REACHED LIMIT.\n",
      "\n",
      "Increase the number of iterations (max_iter) or scale the data as shown in:\n",
      "    https://scikit-learn.org/stable/modules/preprocessing.html\n",
      "Please also refer to the documentation for alternative solver options:\n",
      "    https://scikit-learn.org/stable/modules/linear_model.html#logistic-regression\n",
      "  n_iter_i = _check_optimize_result(\n",
      "/opt/anaconda3/lib/python3.12/site-packages/sklearn/linear_model/_logistic.py:469: ConvergenceWarning: lbfgs failed to converge (status=1):\n",
      "STOP: TOTAL NO. of ITERATIONS REACHED LIMIT.\n",
      "\n",
      "Increase the number of iterations (max_iter) or scale the data as shown in:\n",
      "    https://scikit-learn.org/stable/modules/preprocessing.html\n",
      "Please also refer to the documentation for alternative solver options:\n",
      "    https://scikit-learn.org/stable/modules/linear_model.html#logistic-regression\n",
      "  n_iter_i = _check_optimize_result(\n"
     ]
    },
    {
     "name": "stdout",
     "output_type": "stream",
     "text": [
      "Best number of components: 180\n",
      "Best validation accuracy: 0.9253\n",
      "Training Accuracy with 180 components: 0.9288\n",
      "Validation Accuracy with 180 components: 0.9263\n",
      "Test Accuracy with 180 components: 0.9263\n"
     ]
    },
    {
     "name": "stderr",
     "output_type": "stream",
     "text": [
      "/opt/anaconda3/lib/python3.12/site-packages/sklearn/linear_model/_logistic.py:469: ConvergenceWarning: lbfgs failed to converge (status=1):\n",
      "STOP: TOTAL NO. of ITERATIONS REACHED LIMIT.\n",
      "\n",
      "Increase the number of iterations (max_iter) or scale the data as shown in:\n",
      "    https://scikit-learn.org/stable/modules/preprocessing.html\n",
      "Please also refer to the documentation for alternative solver options:\n",
      "    https://scikit-learn.org/stable/modules/linear_model.html#logistic-regression\n",
      "  n_iter_i = _check_optimize_result(\n"
     ]
    }
   ],
   "source": [
    "# select number of components\n",
    "\n",
    "num_components = np.arange(20, 201, 20)\n",
    "\n",
    "# Write your implementation below\n",
    "# Initialize variables to store results\n",
    "best_num_components = 0\n",
    "best_val_accuracy = 0\n",
    "\n",
    "# List to store results for plotting or analysis\n",
    "train_accuracies = []\n",
    "val_accuracies = []\n",
    "test_accuracies = []\n",
    "\n",
    "# Loop through different numbers of components\n",
    "for num in num_components:\n",
    "    # Apply PCA with the current number of components\n",
    "    pca = PCA(n_components=num)\n",
    "    \n",
    "    # Fit PCA on the training data and transform the data\n",
    "    X_train_pca = pca.fit_transform(X_train)\n",
    "    X_val_pca = pca.transform(X_val)\n",
    "    X_test_pca = pca.transform(test_data_array.reshape(test_data_array.shape[0], -1))\n",
    "    \n",
    "    # Train Logistic Regression model\n",
    "    log_reg = LogisticRegression(max_iter=2000, random_state=seed)\n",
    "    log_reg.fit(X_train_pca, Y_train)\n",
    "    \n",
    "    # Calculate training accuracy\n",
    "    train_preds = log_reg.predict(X_train_pca)\n",
    "    train_accuracy = accuracy_score(Y_train, train_preds)\n",
    "    \n",
    "    # Calculate validation accuracy\n",
    "    val_preds = log_reg.predict(X_val_pca)\n",
    "    val_accuracy = accuracy_score(Y_val, val_preds)\n",
    "    \n",
    "    # Calculate test accuracy\n",
    "    test_preds = log_reg.predict(X_test_pca)\n",
    "    test_accuracy = accuracy_score(test_set_labels, test_preds)\n",
    "    \n",
    "    # Store the accuracies\n",
    "    train_accuracies.append(train_accuracy)\n",
    "    val_accuracies.append(val_accuracy)\n",
    "    test_accuracies.append(test_accuracy)\n",
    "    \n",
    "    # Update best validation accuracy and number of components if applicable\n",
    "    if val_accuracy > best_val_accuracy:\n",
    "        best_val_accuracy = val_accuracy\n",
    "        best_num_components = num\n",
    "\n",
    "# Print the results\n",
    "print(f\"Best number of components: {best_num_components}\")\n",
    "print(f\"Best validation accuracy: {best_val_accuracy:.4f}\")\n",
    "\n",
    "# Evaluate with the best number of components\n",
    "pca = PCA(n_components=best_num_components)\n",
    "X_train_pca = pca.fit_transform(X_train)\n",
    "X_val_pca = pca.transform(X_val)\n",
    "X_test_pca = pca.transform(test_data_array.reshape(test_data_array.shape[0], -1))\n",
    "\n",
    "log_reg = LogisticRegression(max_iter=2000, random_state=seed)\n",
    "log_reg.fit(X_train_pca, Y_train)\n",
    "\n",
    "# Training, Validation, and Test accuracy using the best number of components\n",
    "train_preds = log_reg.predict(X_train_pca)\n",
    "train_accuracy = accuracy_score(Y_train, train_preds)\n",
    "\n",
    "val_preds = log_reg.predict(X_val_pca)\n",
    "val_accuracy = accuracy_score(Y_val, val_preds)\n",
    "\n",
    "test_preds = log_reg.predict(X_test_pca)\n",
    "test_accuracy = accuracy_score(test_set_labels, test_preds)\n",
    "\n",
    "print(f\"Training Accuracy with {best_num_components} components: {train_accuracy:.4f}\")\n",
    "print(f\"Validation Accuracy with {best_num_components} components: {val_accuracy:.4f}\")\n",
    "print(f\"Test Accuracy with {best_num_components} components: {test_accuracy:.4f}\")\n"
   ]
  },
  {
   "cell_type": "markdown",
   "id": "d009b990-8771-4632-b695-01b0994480c8",
   "metadata": {},
   "source": [
    "Comment: Using only 20 components led to a test accuracy of 88.09%, while using 180 components resulted in a test accuracy of 92.63%.\n",
    "This ~4.5% increase highlights the importance of selecting an appropriate number of components to capture sufficient variance without losing critical information.. By using 180 components, the model retains a significantly larger portion of the dataset's variance, leading to improved classification performance. This suggests that most of the important information lies in a higher-dimensional space.. Selecting 180 principal components significantly improves the model's performance, demonstrating that this dimensionality retains sufficient information to achieve high accuracy while reducing computational complexity. The model effectively balances bias and variance, achieving robust performance across training, validation, and test datasets"
   ]
  },
  {
   "cell_type": "markdown",
   "id": "84c72d65-e81d-40a5-8602-5fde2a312bd9",
   "metadata": {},
   "source": [
    "### __QUESTION 2__\n",
    "\n",
    "### Part a"
   ]
  },
  {
   "cell_type": "markdown",
   "id": "e2394965-7c06-4849-b46f-dd05a4ed428c",
   "metadata": {},
   "source": [
    "While prediction and classification aim to accurately forecast future outcomes based on observed data, causal inference goes beyond simply predicting by seeking to understand the \"why\" behind an observed relationship, essentially identifying whether one variable directly causes a change in another; in simpler terms, prediction is about \"what will happen\" while causal inference is about \"what would happen if we changed something.\"\n",
    "\n",
    "Key differences:\n",
    "\n",
    "1. Focus on cause-and-effect:\n",
    "\n",
    "Causal inference aims to establish a true causal relationship between variables, while prediction only seeks to identify correlations and patterns that can be used to make accurate forecasts. \n",
    "\n",
    "2. Intervention analysis:\n",
    "\n",
    "Causal inference often involves hypothetical scenarios where a specific intervention is applied to understand its potential impact, whereas prediction typically focuses on predicting future outcomes based on current data. \n",
    "\n",
    "3. Confounding variables:\n",
    "\n",
    "Causal inference actively addresses the issue of confounding variables (factors that could influence both the \"cause\" and the \"effect\"), while prediction models may not necessarily account for these complexities\n",
    "\n",
    "Real-life scenario:\n",
    "\n",
    "Prediction:\n",
    "\n",
    "Imagine a retail company wanting to predict which customers are most likely to purchase a new product based on their past buying behavior and demographics. This model would identify patterns in data to classify customers as \"likely to buy\" or \"unlikely to buy,\" without necessarily understanding why certain customer characteristics lead to higher purchase rates. \n",
    "\n",
    "Causal Inference:\n",
    "\n",
    "If the company wants to understand the causal effect of a targeted marketing campaign on purchase behavior, they would need to use causal inference methods. This would involve comparing the purchase rates of customers who received the campaign to those who did not, while controlling for other factors like demographics or prior purchase history, to determine if the campaign truly caused an increase in sales\n",
    "\n",
    "In summary:\n",
    "\n",
    "Causal Inference seeks to understand why something happens.\n",
    "Prediction focuses on forecasting future events or outcomes without needing to explain why.\n",
    "Classification groups instances into categories based on input data."
   ]
  },
  {
   "cell_type": "markdown",
   "id": "52d5dd06-74f6-408d-ab0c-9cbc9f126704",
   "metadata": {},
   "source": [
    "### Part b\n",
    "\n",
    "The potential outcomes framework, also known as the Rubin Causal Model is a statistical method used in causal inference to understand the effect of a treatment by comparing the potential outcomes of individuals if they were exposed to the treatment versus if they were not, essentially allowing researchers to estimate a \"what-if\" scenario by creating hypothetical situations where individuals are assigned to either a treatment group (receiving the intervention) or a control group (receiving no intervention or a standard treatment) and then comparing their outcomes; the key concept is that each individual has two potential outcomes, one for each treatment condition, even though only one of them can be observed in reality.\n",
    "\n",
    "Key components:\n",
    "\n",
    "Treatment Group:In a study using the potential outcomes framework, the treatment group consists of individuals who are assigned to receive the intervention or treatment being studied. By comparing the outcomes of this group to the control group, researchers can assess the causal effect of the treatment.\n",
    "\n",
    "Control Group:The control group in this framework comprises individuals who are not exposed to the treatment being studied. They serve as a comparison point to evaluate the effect of the treatment by providing an estimate of what the outcome would have been for the treatment group if they had not received the treatment. \n",
    "\n",
    "How it works:\n",
    "\n",
    "Potential Outcomes:For each individual, there are two potential outcomes: the outcome they would experience if they were assigned to the treatment group (Y_t) and the outcome they would experience if assigned to the control group (Y_c). \n",
    "\n",
    "Observed Outcome:In reality, only one of these potential outcomes can be observed for each individual, depending on which group they are assigned to.\n",
    "\n",
    "Causal Effect:The causal effect of the treatment for an individual is calculated as the difference between their potential outcome under treatment (Y_t) and their potential outcome under control (Y_c)"
   ]
  },
  {
   "cell_type": "markdown",
   "id": "200d2d46-548d-4998-957e-d9066ff32287",
   "metadata": {},
   "source": [
    "### Part c\n",
    "\n",
    "The Difference-in-Means (DiM) estimator is a simple statistical method used to estimate the Average Treatment Effect (ATE) in experiments or observational studies where a population is divided into two groups: a treatment group and a control group.\n",
    "\n",
    "It measures the difference between the average outcomes of the treatment group and the control group, assuming that the only systematic difference between the two groups is the treatment.\n",
    "\n",
    "Let:\n",
    "Y- 1 be the average outcome of the treatment group.\n",
    "\n",
    "Y-0 be the average outcome of the control group.\n",
    "\n",
    "The Difference-in-Means estimator is given by:\n",
    "\n",
    "τ^= Y-1− Y-0\n",
    "where 𝜏^ is the estimate of the Average Treatment Effect (ATE).\n",
    "\n",
    "Relation to the Average Treatment Effect (ATE)\n",
    "The Average Treatment Effect (ATE) is defined as the difference between the expected outcomes for the treated (Y1) and untreated (Y0) populations:\n",
    "opulations:\n",
    "ATE=𝐸[𝑌1−𝑌0]\n",
    "\n",
    "The Difference-in-Means Estimator \n",
    "τ^ is an estimate of the ATE:\n",
    "\n",
    "τ^≈ATE"
   ]
  },
  {
   "cell_type": "markdown",
   "id": "0ce3a582-2b70-47ae-bc67-d81229969180",
   "metadata": {},
   "source": [
    "### Part d\n",
    "\n",
    "Selection bias occurs when the treatment and control groups in an experiment or observational study are not comparable due to systematic differences in their characteristics. This leads to biased estimates of the treatment effect because the observed difference in outcomes may reflect pre-existing differences between the groups rather than the causal effect of the treatment. In other words, selection bias arises when:Certain types of individuals are more (or less) likely to be assigned to the treatment or control group.\n",
    "The observed outcomes are influenced by factors other than the treatment, confounding the estimation of causal effects.\n",
    "\n",
    "To eliminate selection bias, researchers use randomized assignment when conducting experiments. In a randomized controlled trial (RCT):\n",
    "\n",
    "1. Randomization: Individuals (or units) are randomly assigned to either the treatment group or the control group.\n",
    "\n",
    "This ensures that the two groups are statistically equivalent in terms of observed and unobserved characteristics.\n",
    "Randomization breaks the link between the treatment assignment and confounding variables, making it possible to attribute differences in outcomes to the treatment itself.\n",
    "\n",
    "2. Balance Between Groups: Due to randomization, any pre-treatment differences between the groups occur purely by chance and tend to diminish as the sample size increases.\n",
    "\n",
    "Selection Bias in Randomized Experiments\n",
    "In randomized experiments:\n",
    "\n",
    "Selection bias is eliminated (or minimized) because the treatment assignment is independent of the individuals' characteristics.\n",
    "The expected difference in pre-treatment characteristics between the treatment and control groups is zero.\n",
    "Mathematically:\n",
    "\n",
    "Let Y1 be the potential outcome under treatment, and Y0 be the potential outcome under control.\n",
    "In randomized experiments:\n",
    "𝐸[𝑌1∣Treatment]=𝐸[𝑌1]\n",
    "\n",
    "𝐸[𝑌0∣Control]=𝐸[𝑌0]\n",
    "\n",
    "This implies that:\n",
    "E[τ^]=E[Y1−Y0]=ATE\n",
    "\n",
    "Therefore, the selection bias is zero, meaning the estimate of the treatment effect is unbiased."
   ]
  },
  {
   "cell_type": "code",
   "execution_count": null,
   "id": "8a15bea6-9ec6-4a9a-99b2-9943c874f55e",
   "metadata": {},
   "outputs": [],
   "source": []
  }
 ],
 "metadata": {
  "kernelspec": {
   "display_name": "Python 3 (ipykernel)",
   "language": "python",
   "name": "python3"
  },
  "language_info": {
   "codemirror_mode": {
    "name": "ipython",
    "version": 3
   },
   "file_extension": ".py",
   "mimetype": "text/x-python",
   "name": "python",
   "nbconvert_exporter": "python",
   "pygments_lexer": "ipython3",
   "version": "3.12.4"
  }
 },
 "nbformat": 4,
 "nbformat_minor": 5
}
