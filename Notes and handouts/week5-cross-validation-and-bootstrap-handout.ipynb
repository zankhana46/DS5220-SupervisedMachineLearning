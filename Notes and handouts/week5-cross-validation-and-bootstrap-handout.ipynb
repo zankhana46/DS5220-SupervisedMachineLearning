{
 "cells": [
  {
   "cell_type": "markdown",
   "id": "7a00a9a2-8d04-4927-98a4-2a046877a1c5",
   "metadata": {},
   "source": [
    "# Lecture 6: cross-validation and bootstrap"
   ]
  },
  {
   "cell_type": "code",
   "execution_count": null,
   "id": "c347bad8",
   "metadata": {},
   "outputs": [],
   "source": [
    "import numpy as np\n",
    "from ISLP import load_data\n",
    "import statsmodels.api as sm\n",
    "\n",
    "from ISLP.models import (ModelSpec as MS, summarize, poly)\n",
    "from sklearn.model_selection import train_test_split"
   ]
  },
  {
   "cell_type": "code",
   "execution_count": null,
   "id": "fd92102b",
   "metadata": {},
   "outputs": [],
   "source": [
    "from functools import partial\n",
    "from sklearn.model_selection import (cross_validate, KFold, ShuffleSplit)\n",
    "from sklearn.base import clone\n",
    "from ISLP.models import sklearn_sm"
   ]
  },
  {
   "cell_type": "code",
   "execution_count": null,
   "id": "98cf8ce5",
   "metadata": {},
   "outputs": [],
   "source": [
    "import warnings\n",
    "warnings.filterwarnings('ignore')"
   ]
  },
  {
   "cell_type": "markdown",
   "id": "5d69b103",
   "metadata": {},
   "source": [
    "### Naive validation set approach"
   ]
  },
  {
   "cell_type": "code",
   "execution_count": null,
   "id": "67cbe7ed",
   "metadata": {},
   "outputs": [],
   "source": [
    "Auto = load_data('Auto')\n",
    "print(Auto.shape)\n",
    "# As there are 392 observations, we split into two equal sets of size 196\n",
    "Auto_train, Auto_valid = train_test_split(Auto, test_size=196, random_state=0)"
   ]
  },
  {
   "cell_type": "code",
   "execution_count": null,
   "id": "0738c78a",
   "metadata": {},
   "outputs": [],
   "source": [
    "X_train = # TODO: retrieve horsepower from Auto_train\n",
    "X_train = # TODO: add constant to X_train\n",
    "y_train = # TODO: retrieve 'mpg' from auto_train\n",
    "model = # TODO: initialize OLS\n",
    "results = # TODO: fit OLS\n",
    "results.params"
   ]
  },
  {
   "cell_type": "code",
   "execution_count": null,
   "id": "5809cdf7",
   "metadata": {},
   "outputs": [],
   "source": [
    "results.summary()"
   ]
  },
  {
   "cell_type": "code",
   "execution_count": null,
   "id": "33e90317",
   "metadata": {},
   "outputs": [],
   "source": [
    "# TODO: similar to above steps, now on the validation set\n",
    "\n",
    "X_valid = # TODO\n",
    "X_valid = # TODO\n",
    "y_valid = # TODO\n",
    "valid_pred = # TODO\n",
    "np.mean((y_valid - valid_pred)**2) # compute MSE on validation set"
   ]
  },
  {
   "cell_type": "code",
   "execution_count": null,
   "id": "53ada93b",
   "metadata": {},
   "outputs": [],
   "source": [
    "# evalMSE() that takes a model string as well as a training and test set and returns the MSE on the test set\n",
    "def evalMSE(train, test, d):\n",
    "    X_train = train['horsepower']\n",
    "    X_train = np.power.outer(X_train.values, np.arange(d+1))\n",
    "    y_train = train['mpg']\n",
    "    \n",
    "    X_test = test['horsepower']\n",
    "    X_test = np.power.outer(X_test.values, np.arange(d+1))\n",
    "    y_test = test['mpg']\n",
    "    \n",
    "    results = sm.OLS(y_train, X_train).fit()\n",
    "    test_pred = results.predict(X_test)\n",
    "    return np.mean((y_test - test_pred)**2)"
   ]
  },
  {
   "cell_type": "code",
   "execution_count": null,
   "id": "a8d3e81a",
   "metadata": {},
   "outputs": [],
   "source": [
    "# fit polynomials of degree 1, 2, 3\n",
    "\n",
    "MSE = np.zeros(3)\n",
    "\n",
    "for idx, degree in enumerate(range(1, 4)):\n",
    "    print(idx, degree)\n",
    "    MSE[idx] = evalMSE(Auto_train, Auto_valid, degree) \n",
    "\n",
    "MSE"
   ]
  },
  {
   "cell_type": "markdown",
   "id": "ee80486c",
   "metadata": {},
   "source": [
    "Try a different training, and validation split by setting a different random_state\n",
    "\n",
    "The mses are different"
   ]
  },
  {
   "cell_type": "code",
   "execution_count": null,
   "id": "f26a5115",
   "metadata": {},
   "outputs": [],
   "source": [
    "Auto_train, Auto_valid = # TODO:  repeat the above fitting for a different random state\n",
    "\n",
    "MSE = np.zeros(3)\n",
    "# TODO: repeat the above fitting for a different random state\n",
    "#\n",
    "# TODO\n",
    "\n",
    "MSE"
   ]
  },
  {
   "cell_type": "markdown",
   "id": "b183f1bb",
   "metadata": {},
   "source": [
    "# An alternative implementation of polynomial features, use PolynomialFeatures"
   ]
  },
  {
   "cell_type": "code",
   "execution_count": null,
   "id": "33ec34e1",
   "metadata": {},
   "outputs": [],
   "source": [
    "from sklearn.preprocessing import PolynomialFeatures"
   ]
  },
  {
   "cell_type": "code",
   "execution_count": null,
   "id": "92b4a2fb",
   "metadata": {},
   "outputs": [],
   "source": [
    "Auto_train[['horsepower']].shape"
   ]
  },
  {
   "cell_type": "code",
   "execution_count": null,
   "id": "677a7f54",
   "metadata": {},
   "outputs": [],
   "source": [
    "# evalMSE() takes a model string as well as a training and test set and returns the MSE on the test set\n",
    "\n",
    "def evalMSE(train, test, d):\n",
    "    poly_features = PolynomialFeatures(degree=d)\n",
    "    X_train = poly_features.fit_transform(train[['horsepower']]) \n",
    "    y_train = train['mpg']\n",
    "    \n",
    "    X_test = poly_features.fit_transform(test[['horsepower']])\n",
    "    y_test = test['mpg']\n",
    "    \n",
    "    results = sm.OLS(y_train, X_train).fit()\n",
    "    test_pred = results.predict(X_test)\n",
    "    return np.mean((y_test - test_pred)**2)"
   ]
  },
  {
   "cell_type": "code",
   "execution_count": null,
   "id": "44d8819d",
   "metadata": {},
   "outputs": [],
   "source": [
    "Auto_train, Auto_valid = # TODO\n",
    "MSE = np.zeros(3)\n",
    "# TODO: fit polynomial of degree 1, 2, 3\n",
    "# TODO: use evalMSE to get the MSE for each polynomial\n",
    "\n",
    "MSE"
   ]
  },
  {
   "cell_type": "markdown",
   "id": "14e6ed9b",
   "metadata": {},
   "source": [
    "### Cross-validation"
   ]
  },
  {
   "cell_type": "markdown",
   "id": "fc638425",
   "metadata": {},
   "source": [
    "LOOCV for Ordinary Least Squares"
   ]
  },
  {
   "cell_type": "code",
   "execution_count": null,
   "id": "1a9996ca",
   "metadata": {},
   "outputs": [],
   "source": [
    "# TODO: use cross_validate to get the LOOCV error of OLS\n",
    "# similar to above, map 'horsepower' to 'mpg' with a polynomial using cross_validate\n",
    "M = sklearn_sm(sm.OLS)\n",
    "H = np.array(Auto['horsepower'])\n",
    "X = sm.add_constant(H)\n",
    "Y = Auto['mpg']\n",
    "cv_results = # TODO: implement CV\n",
    "cv_err = # TODO: get mean CV score\n",
    "cv_err"
   ]
  },
  {
   "cell_type": "markdown",
   "id": "a4226b0e",
   "metadata": {},
   "source": [
    "An alternative implementation of LOOCV without adding a constant term"
   ]
  },
  {
   "cell_type": "code",
   "execution_count": null,
   "id": "805c244d",
   "metadata": {},
   "outputs": [],
   "source": [
    "# an intercept term is included\n",
    "hp_model = sklearn_sm(sm.OLS, MS(['horsepower']))\n",
    "X, Y = Auto.drop(columns=['mpg']), Auto['mpg']\n",
    "## cv = Auto.shape[0] is LOOCV\n",
    "cv_results = cross_validate(hp_model, X, Y, cv=Auto.shape[0])\n",
    "cv_err = np.mean(cv_results['test_score'])\n",
    "cv_err"
   ]
  },
  {
   "cell_type": "markdown",
   "id": "f5923ece",
   "metadata": {},
   "source": [
    "LOOCV for polynomial regressions\n",
    "\n",
    "define the polynomials of horsepower using np.power.outer"
   ]
  },
  {
   "cell_type": "code",
   "execution_count": null,
   "id": "fdbcd994",
   "metadata": {},
   "outputs": [],
   "source": [
    "# TODO: implement polynomial regression and use cross_validate to get the LOOCV of each polynomial from degree 1, 2, 3, 4, and 5\n",
    "\n",
    "cv_error = np.zeros(5)\n",
    "H = np.array(Auto['horsepower'])\n",
    "# if terms are not specified in sklean_sm, then sm.OLS uses all the columns in X without including an intercept term\n",
    "M = sklearn_sm(sm.OLS)\n",
    "# TODO for i, d in enumerate(range(1,6)):\n",
    "#     \n",
    "# \n",
    "#    \n",
    "# TODO\n",
    "cv_error"
   ]
  },
  {
   "cell_type": "markdown",
   "id": "55ab7ca4",
   "metadata": {},
   "source": [
    "K-fold cross validation"
   ]
  },
  {
   "cell_type": "code",
   "execution_count": null,
   "id": "2d4d22f9",
   "metadata": {},
   "outputs": [],
   "source": [
    "cv_error = np.zeros(5)\n",
    "H = np.array(Auto['horsepower'])\n",
    "\n",
    "cv = KFold(n_splits=10, shuffle=True, random_state=0) # use same splits for each degree\n",
    "# TODO: repeat the above but now with k-fold CV\n",
    "for i, d in enumerate(range(1,6)):\n",
    "    # TODO\n",
    "    # TODO\n",
    "    # TODO\n",
    "    \n",
    "cv_error"
   ]
  },
  {
   "cell_type": "markdown",
   "id": "b60b51d3",
   "metadata": {},
   "source": [
    "### Implement bootstrap"
   ]
  },
  {
   "cell_type": "markdown",
   "id": "3e611ce8",
   "metadata": {},
   "source": [
    "Estimating the standard deviation of a statistic of Interest"
   ]
  },
  {
   "cell_type": "code",
   "execution_count": null,
   "id": "e48fefae",
   "metadata": {},
   "outputs": [],
   "source": [
    "Portfolio = load_data('Portfolio')\n",
    "\n",
    "def alpha_func(D, idx):\n",
    "    cov_ = np.cov(D[['X','Y']].loc[idx], rowvar=False)\n",
    "    return ((cov_[1,1] - cov_[0,1]) / (cov_[0,0]+cov_[1,1]-2*cov_[0,1]))\n",
    "\n",
    "alpha_func(Portfolio, range(100))"
   ]
  },
  {
   "cell_type": "code",
   "execution_count": null,
   "id": "b129be87",
   "metadata": {},
   "outputs": [],
   "source": [
    "rng = np.random.default_rng(0)\n",
    "alpha_func(Portfolio, rng.choice(100, 100, replace=True))"
   ]
  },
  {
   "cell_type": "code",
   "execution_count": null,
   "id": "f4f2cb64",
   "metadata": {},
   "outputs": [],
   "source": [
    "# TODO: use bootstrap for B times and compute the standard deviation of alpha\n",
    "\n",
    "def boot_SE(func, D, n=None, B=1000, seed=0):\n",
    "    rng = np.random.default_rng(seed)\n",
    "    first_, second_ = 0, 0\n",
    "    n = n or D.shape[0]\n",
    "    # TODO for _ in range(B):\n",
    "    #    idx = TODO\n",
    "    #    value = func(D, idx)\n",
    "    #    first_ += value\n",
    "    #    second_ += value**2\n",
    "    return np.sqrt(second_ / B - (first_ / B)**2)"
   ]
  },
  {
   "cell_type": "code",
   "execution_count": null,
   "id": "c58c110d",
   "metadata": {},
   "outputs": [],
   "source": [
    "alpha_SE = boot_SE(alpha_func, Portfolio, B=1000, seed=0)\n",
    "alpha_SE"
   ]
  },
  {
   "cell_type": "markdown",
   "id": "bdd560bc",
   "metadata": {},
   "source": [
    "Estimating the standard deviation of a linear regression model coefficients"
   ]
  },
  {
   "cell_type": "code",
   "execution_count": null,
   "id": "c6ac5625-3455-41ff-b7cb-a71e2449761f",
   "metadata": {},
   "outputs": [],
   "source": [
    "print( Auto['horsepower'].shape )\n",
    "\n",
    "print( Auto['mpg'].shape )\n",
    "\n",
    "n = 392\n",
    "\n",
    "idx = rng.choice(n, n, replace=True)\n",
    "\n",
    "print(idx)\n",
    "\n",
    "A = Auto['mpg']\n",
    "\n",
    "A[idx]"
   ]
  },
  {
   "cell_type": "code",
   "execution_count": null,
   "id": "51172efa",
   "metadata": {},
   "outputs": [],
   "source": [
    "# TODO: use bootstrap to get the standard deviation of the linear model coefficients\n",
    "\n",
    "def boot_OLS(X, Y, B=1000, seed=0):\n",
    "    rng = np.random.default_rng(seed)\n",
    "    n = X.shape[0]\n",
    "    first_, second_ = np.zeros((2,)), np.zeros((2,))\n",
    "    \n",
    "    for _ in range(B):\n",
    "        idx = rng.choice(n, n, replace=True)\n",
    "        #print(idx)\n",
    "        # TODO\n",
    "        # \n",
    "        # add constant\n",
    "        # \n",
    "        # sm.OLS does not automatically include an intercept term\n",
    "        # TODO\n",
    "        #print(value)\n",
    "        first_ += value\n",
    "        second_ += value * value\n",
    "\n",
    "    #print(first_, second_)\n",
    "    return np.sqrt(second_ / B - (first_ / B)**2)"
   ]
  },
  {
   "cell_type": "code",
   "execution_count": null,
   "id": "5a2161c9",
   "metadata": {},
   "outputs": [],
   "source": [
    "# print the standard deviation of model coefficients\n",
    "boot_OLS(Auto['horsepower'], Auto['mpg'])"
   ]
  },
  {
   "cell_type": "markdown",
   "id": "d61a7442",
   "metadata": {},
   "source": [
    "Estimating the standard deviation of polynomial regression coefficients"
   ]
  },
  {
   "cell_type": "code",
   "execution_count": null,
   "id": "2743a73d",
   "metadata": {},
   "outputs": [],
   "source": [
    "# TODO: use bootstrap to compute the standard deviations of the model coefficients for polynomial regression\n",
    "\n",
    "def boot_polynomial_regression(X, Y, d, B=1000, seed=0):\n",
    "    # polynomial degree is d\n",
    "    rng = np.random.default_rng(seed)\n",
    "    n = X.shape[0]\n",
    "    first_, second_ = np.zeros((d+1,)), np.zeros((d+1,))\n",
    "    \n",
    "    org_Y = Y.copy()\n",
    "    org_X = X.copy()\n",
    "    org_X = # TODO: transform oreg_X to powers of org_X using np.power.outer\n",
    "    print(sm.OLS(org_Y, org_X).fit().params)\n",
    "    \n",
    "    for _ in range(B):\n",
    "        idx = rng.choice(n, n, replace=True)\n",
    "        Y_ = # TODO\n",
    "        X_ = # TODO\n",
    "        # construct polynomials of X\n",
    "        X_ = # TODO\n",
    "        value = # TODO\n",
    "        first_ += value\n",
    "        second_ += value * value\n",
    "        \n",
    "    return np.sqrt(second_ / B - (first_ / B)**2)"
   ]
  },
  {
   "cell_type": "code",
   "execution_count": null,
   "id": "98a62cd7",
   "metadata": {},
   "outputs": [],
   "source": [
    "# polynomial degree is 1\n",
    "boot_polynomial_regression(Auto['horsepower'], Auto['mpg'], 1)"
   ]
  },
  {
   "cell_type": "code",
   "execution_count": null,
   "id": "05ff826d",
   "metadata": {},
   "outputs": [],
   "source": [
    "# polynomial degree is 2\n",
    "boot_polynomial_regression(Auto['horsepower'], Auto['mpg'], 2)"
   ]
  },
  {
   "cell_type": "markdown",
   "id": "daad55c8",
   "metadata": {},
   "source": [
    "Use bootstrap to compute the mean of a statistics"
   ]
  },
  {
   "cell_type": "code",
   "execution_count": null,
   "id": "be1b3a9b",
   "metadata": {},
   "outputs": [],
   "source": [
    "# TODO: Use Bootstrap to get the standard deviation of the mean\n",
    "\n",
    "def boot_mean(X, B=1000, seed=0):\n",
    "    rng = np.random.default_rng(seed)\n",
    "    first_, second_ = 0, 0\n",
    "    n = X.shape[0]\n",
    "    \n",
    "    print(\"mean\", np.mean(X))\n",
    "    \n",
    "    for _ in range(B):\n",
    "        idx = # TODO\n",
    "        value = # TODO\n",
    "        first_ += value\n",
    "        second_ += value**2\n",
    "    return np.sqrt(second_ / B - (first_ / B)**2)"
   ]
  },
  {
   "cell_type": "code",
   "execution_count": null,
   "id": "9ea1d94f",
   "metadata": {},
   "outputs": [],
   "source": [
    "# standard deviation of 'mpg'\n",
    "boot_mean(Auto['mpg'])"
   ]
  },
  {
   "cell_type": "code",
   "execution_count": null,
   "id": "0a12bd78",
   "metadata": {},
   "outputs": [],
   "source": [
    "# standard deviation of 'horsepower'\n",
    "boot_mean(Auto['horsepower'])"
   ]
  },
  {
   "cell_type": "markdown",
   "id": "0aac4b79",
   "metadata": {},
   "source": [
    "# Optional module: An alternative implementation"
   ]
  },
  {
   "cell_type": "code",
   "execution_count": null,
   "id": "9a50fa48",
   "metadata": {},
   "outputs": [],
   "source": [
    "def boot_OLS(model_matrix, response, D, idx):\n",
    "    #print('D', D)\n",
    "    #print('idx')\n",
    "    print(idx)\n",
    "    D_ = D.iloc[idx]\n",
    "    Y_ = D_[response]\n",
    "    X_ = clone(model_matrix).fit_transform(D_)\n",
    "    return sm.OLS(Y_, X_).fit().params"
   ]
  },
  {
   "cell_type": "code",
   "execution_count": null,
   "id": "9980fed7",
   "metadata": {},
   "outputs": [],
   "source": [
    "from functools import partial\n",
    "from sklearn.base import clone"
   ]
  },
  {
   "cell_type": "code",
   "execution_count": null,
   "id": "acbfdefa",
   "metadata": {},
   "outputs": [],
   "source": [
    "hp_func = partial(boot_OLS, MS(['horsepower']), 'mpg')"
   ]
  },
  {
   "cell_type": "code",
   "execution_count": null,
   "id": "1f5823c2",
   "metadata": {},
   "outputs": [],
   "source": [
    "rng = np.random.default_rng(0)\n",
    "np.array([hp_func(Auto, rng.choice(392, 392, replace=True)) for _ in range(10)])"
   ]
  },
  {
   "cell_type": "code",
   "execution_count": null,
   "id": "4e3924df-4fe1-4236-b205-7d4f1cbcc3a3",
   "metadata": {},
   "outputs": [],
   "source": [
    "def boot_OLS(model_matrix, response, D, idx):\n",
    "    #print('D', D)\n",
    "    #print('idx')\n",
    "    print(idx)\n",
    "    D_ = D.loc[idx]\n",
    "    Y_ = D_[response]\n",
    "    X_ = clone(model_matrix).fit_transform(D_)\n",
    "    return sm.OLS(Y_, X_).fit().params"
   ]
  },
  {
   "cell_type": "code",
   "execution_count": null,
   "id": "b7491575",
   "metadata": {},
   "outputs": [],
   "source": [
    "hp_func = partial(boot_OLS, MS(['horsepower']), 'mpg')\n",
    "hp_se = boot_SE(hp_func, Auto, B=1000, seed=10)\n",
    "hp_se"
   ]
  },
  {
   "cell_type": "code",
   "execution_count": null,
   "id": "63ca8fa6",
   "metadata": {},
   "outputs": [],
   "source": [
    "hp_model.fit(Auto, Auto['mpg'])\n",
    "model_se = summarize(hp_model.results_)['std err']\n",
    "model_se"
   ]
  },
  {
   "cell_type": "code",
   "execution_count": null,
   "id": "beb72efe",
   "metadata": {},
   "outputs": [],
   "source": [
    "quad_model = MS([poly('horsepower', 2, raw=True)])\n",
    "quad_func = partial(boot_OLS, quad_model, 'mpg')\n",
    "boot_SE(quad_func, Auto, B=1000)"
   ]
  },
  {
   "cell_type": "code",
   "execution_count": null,
   "id": "9bc3087c",
   "metadata": {},
   "outputs": [],
   "source": [
    "M = sm.OLS(Auto['mpg'], quad_model.fit_transform(Auto))\n",
    "summarize(M.fit())['std err']"
   ]
  }
 ],
 "metadata": {
  "kernelspec": {
   "display_name": "Python 3 (ipykernel)",
   "language": "python",
   "name": "python3"
  },
  "language_info": {
   "codemirror_mode": {
    "name": "ipython",
    "version": 3
   },
   "file_extension": ".py",
   "mimetype": "text/x-python",
   "name": "python",
   "nbconvert_exporter": "python",
   "pygments_lexer": "ipython3",
   "version": "3.12.1"
  }
 },
 "nbformat": 4,
 "nbformat_minor": 5
}
