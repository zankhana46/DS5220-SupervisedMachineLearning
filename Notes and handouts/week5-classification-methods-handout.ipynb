{
 "cells": [
  {
   "cell_type": "markdown",
   "id": "11ac18b0-aac9-4ee4-8e4e-18c2da6f1726",
   "metadata": {},
   "source": [
    "# Lecture 4: classification methods"
   ]
  },
  {
   "cell_type": "code",
   "execution_count": null,
   "id": "bf4e80b3",
   "metadata": {},
   "outputs": [],
   "source": [
    "import numpy as np\n",
    "import pandas as pd\n",
    "from matplotlib.pyplot import subplots\n",
    "import statsmodels.api as sm\n",
    "from ISLP import load_data\n",
    "from ISLP.models import summarize"
   ]
  },
  {
   "cell_type": "code",
   "execution_count": null,
   "id": "8875ab4a",
   "metadata": {},
   "outputs": [],
   "source": [
    "import warnings\n",
    "warnings.filterwarnings('ignore')"
   ]
  },
  {
   "cell_type": "code",
   "execution_count": null,
   "id": "d2e927fc",
   "metadata": {},
   "outputs": [],
   "source": [
    "from ISLP import confusion_table"
   ]
  },
  {
   "cell_type": "code",
   "execution_count": null,
   "id": "f97f3810",
   "metadata": {},
   "outputs": [],
   "source": [
    "from sklearn.model_selection import train_test_split"
   ]
  },
  {
   "cell_type": "code",
   "execution_count": null,
   "id": "7b755d1f",
   "metadata": {},
   "outputs": [],
   "source": [
    "# TODO load the 'Smarket' dataset using load_data\n",
    "# see https://islp.readthedocs.io/en/latest/datasets/Smarket.html\n",
    "Smarket = # TODO\n",
    "Smarket # print dataset"
   ]
  },
  {
   "cell_type": "code",
   "execution_count": null,
   "id": "049c8416",
   "metadata": {},
   "outputs": [],
   "source": [
    "# plot the 'Volume' column of Smarket\n",
    "Smarket.plot(y='Volume')"
   ]
  },
  {
   "cell_type": "code",
   "execution_count": null,
   "id": "99a4c38c",
   "metadata": {},
   "outputs": [],
   "source": [
    "# TODO: train test split half/half\n",
    "test_size = int(Smarket.shape[0]/2)\n",
    "train_size = Smarket.shape[0] - test_size\n",
    "Smarket_train, Smarket_test = # TODO"
   ]
  },
  {
   "cell_type": "markdown",
   "id": "e8b5c127",
   "metadata": {},
   "source": [
    "# logistic regression"
   ]
  },
  {
   "cell_type": "code",
   "execution_count": null,
   "id": "31dea28e",
   "metadata": {},
   "outputs": [],
   "source": [
    "## TODO: Use 'Lag1', 'Lag2', 'Lag3', 'Lag4', 'Lag5', 'Volume' to predict 'Up'\n",
    "# train a logistic regression model for this binary classification problem\n",
    "\n",
    "X_train = Smarket_train[['Lag1', 'Lag2', 'Lag3', 'Lag4', 'Lag5', 'Volume']]\n",
    "X_train = sm.add_constant(X_train)\n",
    "y_train = Smarket_train.Direction == 'Up'\n",
    "logit_model =  # TODO\n",
    "results = # TODO\n",
    "summarize(results)"
   ]
  },
  {
   "cell_type": "code",
   "execution_count": null,
   "id": "a787d970",
   "metadata": {},
   "outputs": [],
   "source": [
    "results.params"
   ]
  },
  {
   "cell_type": "code",
   "execution_count": null,
   "id": "25f90eb2",
   "metadata": {},
   "outputs": [],
   "source": [
    "results.pvalues"
   ]
  },
  {
   "cell_type": "code",
   "execution_count": null,
   "id": "6ad4d929",
   "metadata": {},
   "outputs": [],
   "source": [
    "train_probs = # TODO: predict on training data results.predict()\n",
    "train_probs[:10]"
   ]
  },
  {
   "cell_type": "code",
   "execution_count": null,
   "id": "d4cf13d6",
   "metadata": {},
   "outputs": [],
   "source": [
    "# find the binary training labels corresponding to up or down\n",
    "train_labels = np.array(['Down']*train_size)\n",
    "train_labels[train_probs >0.5] = \"Up\""
   ]
  },
  {
   "cell_type": "code",
   "execution_count": null,
   "id": "e0be2bd6",
   "metadata": {},
   "outputs": [],
   "source": [
    "confusion_table(train_labels, Smarket_train.Direction)"
   ]
  },
  {
   "cell_type": "code",
   "execution_count": null,
   "id": "f2d96ea2",
   "metadata": {},
   "outputs": [],
   "source": [
    "# find out the training misclassification error rate\n",
    "np.mean(train_labels != Smarket_train.Direction)"
   ]
  },
  {
   "cell_type": "code",
   "execution_count": null,
   "id": "cb075ced",
   "metadata": {},
   "outputs": [],
   "source": [
    "# TODO: Use 'Lag1', 'Lag2', 'Lag3', 'Lag4', 'Lag5', 'Volume' to get the test points probabilities\n",
    "X_test = # TODO\n",
    "X_test = # TODO\n",
    "test_probs = # TODO"
   ]
  },
  {
   "cell_type": "code",
   "execution_count": null,
   "id": "4685b4ac",
   "metadata": {},
   "outputs": [],
   "source": [
    "# TODO: get the test point binary labels \"Up\" or \"Down\"\n",
    "test_labels = # TODO\n",
    "test_labels[test_probs >0.5] = \"Up\""
   ]
  },
  {
   "cell_type": "code",
   "execution_count": null,
   "id": "c2844d68",
   "metadata": {},
   "outputs": [],
   "source": [
    "confusion_table(test_labels, Smarket_test.Direction)"
   ]
  },
  {
   "cell_type": "code",
   "execution_count": null,
   "id": "132092a6",
   "metadata": {},
   "outputs": [],
   "source": [
    "# get test misclassification error rate\n",
    "np.mean(test_labels != Smarket_test.Direction)"
   ]
  },
  {
   "cell_type": "markdown",
   "id": "1ba1b1b8",
   "metadata": {},
   "source": [
    "# LDA"
   ]
  },
  {
   "cell_type": "code",
   "execution_count": null,
   "id": "186a80dc",
   "metadata": {},
   "outputs": [],
   "source": [
    "from sklearn.discriminant_analysis import LinearDiscriminantAnalysis as LDA"
   ]
  },
  {
   "cell_type": "code",
   "execution_count": null,
   "id": "6da2456c",
   "metadata": {},
   "outputs": [],
   "source": [
    "# LDA estimator automatically adds an intercept\n",
    "# we do not need to manually add an intercept term\n",
    "# TODO: set up X_train, X_test, L_train, L_test from train/test data of Smarket\n",
    "\n",
    "X_train = # TODO\n",
    "X_test = # TODO\n",
    "L_train = # TODO\n",
    "L_test = # TODO\n",
    "\n",
    "# TODO: define LDA and fit to X_train and L_train\n",
    "# lda can pass in categorical values\n",
    "lda = # TODO\n",
    "lda.fit(X_train, L_train)"
   ]
  },
  {
   "cell_type": "code",
   "execution_count": null,
   "id": "b6e54c7f",
   "metadata": {},
   "outputs": [],
   "source": [
    "lda.classes_"
   ]
  },
  {
   "cell_type": "code",
   "execution_count": null,
   "id": "e81b6267",
   "metadata": {},
   "outputs": [],
   "source": [
    "lda.means_"
   ]
  },
  {
   "cell_type": "code",
   "execution_count": null,
   "id": "2c4fff10",
   "metadata": {},
   "outputs": [],
   "source": [
    "# down probability and up probability\n",
    "lda.priors_"
   ]
  },
  {
   "cell_type": "code",
   "execution_count": null,
   "id": "6e95a6c4",
   "metadata": {},
   "outputs": [],
   "source": [
    "# covariance matrix for LDA\n",
    "lda.covariance_"
   ]
  },
  {
   "cell_type": "code",
   "execution_count": null,
   "id": "514d9c1f",
   "metadata": {},
   "outputs": [],
   "source": [
    "# TODO: use LDA model to predict on X_test\n",
    "\n",
    "lda_pred = # TODO"
   ]
  },
  {
   "cell_type": "code",
   "execution_count": null,
   "id": "268c92fd",
   "metadata": {},
   "outputs": [],
   "source": [
    "confusion_table(lda_pred, L_test)"
   ]
  },
  {
   "cell_type": "code",
   "execution_count": null,
   "id": "47fbe838",
   "metadata": {},
   "outputs": [],
   "source": [
    "# get test misclassification error rate\n",
    "\n",
    "np.mean(lda_pred != L_test)"
   ]
  },
  {
   "cell_type": "code",
   "execution_count": null,
   "id": "1e6eb174",
   "metadata": {},
   "outputs": [],
   "source": [
    "# extract lda probability\n",
    "lda_prob = lda.predict_proba(X_test)\n",
    "np.all(np.where(lda_prob[:,1] >= 0.5, 'Up', 'Down') == lda_pred)"
   ]
  },
  {
   "cell_type": "markdown",
   "id": "5cfd1570",
   "metadata": {},
   "source": [
    "# QDA"
   ]
  },
  {
   "cell_type": "code",
   "execution_count": null,
   "id": "76a0adb1",
   "metadata": {},
   "outputs": [],
   "source": [
    "from sklearn.discriminant_analysis import QuadraticDiscriminantAnalysis as QDA"
   ]
  },
  {
   "cell_type": "code",
   "execution_count": null,
   "id": "35ca95ab",
   "metadata": {},
   "outputs": [],
   "source": [
    "# TODO: fit a QDA model\n",
    "qda = # TODO\n",
    "# TODO: fit qda\n"
   ]
  },
  {
   "cell_type": "code",
   "execution_count": null,
   "id": "b65fd17c",
   "metadata": {},
   "outputs": [],
   "source": [
    "qda.means_, qda.priors_"
   ]
  },
  {
   "cell_type": "code",
   "execution_count": null,
   "id": "7c17fa40",
   "metadata": {},
   "outputs": [],
   "source": [
    "# covariance matrix for the first class\n",
    "qda.covariance_[0]"
   ]
  },
  {
   "cell_type": "code",
   "execution_count": null,
   "id": "fe53df99",
   "metadata": {},
   "outputs": [],
   "source": [
    "# covariance matrix for the second class\n",
    "# the covariance matrix is different from the first class\n",
    "qda.covariance_[1]"
   ]
  },
  {
   "cell_type": "code",
   "execution_count": null,
   "id": "bd3a2876",
   "metadata": {},
   "outputs": [],
   "source": [
    "qda_pred = # TODO: use qda to predict on X_test\n",
    "confusion_table(qda_pred, L_test)"
   ]
  },
  {
   "cell_type": "code",
   "execution_count": null,
   "id": "43c46807",
   "metadata": {},
   "outputs": [],
   "source": [
    "# test misclassification error rate\n",
    "np.mean(qda_pred != L_test)"
   ]
  },
  {
   "cell_type": "markdown",
   "id": "4938abbb",
   "metadata": {},
   "source": [
    "# K-nearest neighbors"
   ]
  },
  {
   "cell_type": "code",
   "execution_count": null,
   "id": "38818e46",
   "metadata": {},
   "outputs": [],
   "source": [
    "from sklearn.neighbors import KNeighborsClassifier"
   ]
  },
  {
   "cell_type": "code",
   "execution_count": null,
   "id": "bc73a73b",
   "metadata": {},
   "outputs": [],
   "source": [
    "# TODO: fit a 1 nearest neighbor classifier\n",
    "knn1 = # TODO\n",
    "knn1.fit(X_train, L_train)\n",
    "knn1_pred = # TODO predict on X_test\n",
    "confusion_table(knn1_pred, L_test)"
   ]
  },
  {
   "cell_type": "code",
   "execution_count": null,
   "id": "03ce99c9",
   "metadata": {},
   "outputs": [],
   "source": [
    "# test misclassification error rate\n",
    "np.mean(knn1_pred != L_test)"
   ]
  },
  {
   "cell_type": "code",
   "execution_count": null,
   "id": "57a3d317",
   "metadata": {},
   "outputs": [],
   "source": [
    "# TODO: fit a 3 nearest neighbor classifier\n",
    "knn3 = # TODO\n",
    "# TODO fit\n",
    "knn3_pred = # TODO predict on X_test\n",
    "confusion_table(knn3_pred, L_test)"
   ]
  },
  {
   "cell_type": "code",
   "execution_count": null,
   "id": "aa8bd336",
   "metadata": {},
   "outputs": [],
   "source": [
    "# test misclassification error rate\n",
    "np.mean(knn3_pred != L_test)"
   ]
  }
 ],
 "metadata": {
  "kernelspec": {
   "display_name": "Python 3 (ipykernel)",
   "language": "python",
   "name": "python3"
  },
  "language_info": {
   "codemirror_mode": {
    "name": "ipython",
    "version": 3
   },
   "file_extension": ".py",
   "mimetype": "text/x-python",
   "name": "python",
   "nbconvert_exporter": "python",
   "pygments_lexer": "ipython3",
   "version": "3.12.1"
  }
 },
 "nbformat": 4,
 "nbformat_minor": 5
}
