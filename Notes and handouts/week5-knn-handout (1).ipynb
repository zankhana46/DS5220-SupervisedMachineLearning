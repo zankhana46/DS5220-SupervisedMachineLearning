{
 "cells": [
  {
   "cell_type": "markdown",
   "metadata": {
    "id": "4q57ZvULZNGE"
   },
   "source": [
    "# Lecture 3: K-nearest neighbors"
   ]
  },
  {
   "cell_type": "code",
   "execution_count": null,
   "metadata": {
    "id": "xWgmKxQyZGA4"
   },
   "outputs": [],
   "source": [
    "import numpy as np\n",
    "from ISLP import load_data\n",
    "from sklearn.model_selection import train_test_split\n",
    "\n",
    "df = load_data(\"Boston\") \n",
    "\n",
    "X_train, X_test, y_train, y_test = train_test_split(df[['lstat']], df[['medv']], train_size=250, random_state=42) # We are using lstat to predict medv\n",
    "\n",
    "X_train = X_train.to_numpy()\n",
    "y_train = y_train.to_numpy()"
   ]
  },
  {
   "cell_type": "code",
   "execution_count": null,
   "metadata": {
    "colab": {
     "base_uri": "https://localhost:8080/",
     "height": 447
    },
    "id": "RvzE8cGifzhd",
    "outputId": "91c529b0-8be9-4b98-dcf1-8b6a63589779"
   },
   "outputs": [],
   "source": [
    "from matplotlib import pyplot as plt\n",
    "\n",
    "plt.plot(X_train, y_train, 'o')"
   ]
  },
  {
   "cell_type": "code",
   "execution_count": null,
   "metadata": {
    "colab": {
     "base_uri": "https://localhost:8080/",
     "height": 1000
    },
    "id": "H0ahzKOziSF1",
    "outputId": "a927097e-0c7f-458f-ecbd-9dc150df4ceb"
   },
   "outputs": [],
   "source": [
    "from sklearn.neighbors import KNeighborsRegressor\n",
    "import pandas as pd\n",
    "import seaborn as sns"
   ]
  },
  {
   "cell_type": "markdown",
   "metadata": {},
   "source": [
    "# KNN as regression problem"
   ]
  },
  {
   "cell_type": "code",
   "execution_count": null,
   "metadata": {},
   "outputs": [],
   "source": [
    "df_train = pd.DataFrame({'lstat': X_train.reshape(-1,), 'medv': y_train.reshape(-1,)})\n",
    "\n",
    "fig, axes = plt.subplots(3, 1, figsize = (5,10))\n",
    "\n",
    "n_neighbors = [1, 2, 5]\n",
    "\n",
    "T = np.linspace(28, 39, 500)[:, np.newaxis] # For graphing\n",
    "\n",
    "for i, n in enumerate(n_neighbors):\n",
    "    knn = # TODO: initialize a KNN regressor\n",
    "    y_pred = # TODO: fit the KNN on training data and predict on T\n",
    "    fit_df = pd.DataFrame({\"T\": T.reshape((-1,)), \"y_pred\": y_pred.reshape((-1,))})\n",
    "    \n",
    "    sns.lineplot(data = fit_df, x = 'T', y = 'y_pred', color = 'blue', ax = axes[i])\n",
    "    sns.regplot(data = df_train, x = 'lstat', y = 'medv', ax = axes[i], fit_reg = False, scatter_kws={\"color\": \"black\"}).set(title = f'k = {n}')\n",
    "    \n",
    "    axes[i].set_xlim([28, 39])\n",
    "    axes[i].set_ylim([0, 30])\n",
    "\n",
    "fig.tight_layout()"
   ]
  },
  {
   "cell_type": "markdown",
   "metadata": {},
   "source": [
    "# KNN as classification problem"
   ]
  },
  {
   "cell_type": "code",
   "execution_count": null,
   "metadata": {},
   "outputs": [],
   "source": [
    "from sklearn.neighbors import KNeighborsClassifier"
   ]
  },
  {
   "cell_type": "code",
   "execution_count": null,
   "metadata": {},
   "outputs": [],
   "source": [
    "df = load_data(\"Boston\") \n",
    "\n",
    "X_train, X_test, y_train, y_test = train_test_split(df[['lstat']], df[['medv']], train_size=250, random_state=42) # We are using lstats to predict medv\n",
    "\n",
    "X_train = X_train.to_numpy()\n",
    "y_train = y_train.to_numpy()\n",
    "\n",
    "y_train_cat = (y_train >= 14) * 2 + ((y_train < 14) * (y_train >= 10)) * 1\n",
    "y_train_cat = y_train_cat.reshape((-1,))"
   ]
  },
  {
   "cell_type": "code",
   "execution_count": null,
   "metadata": {},
   "outputs": [],
   "source": [
    "df_train = pd.DataFrame({'lstat': X_train.reshape(-1,), 'medv': y_train_cat.reshape(-1,)})\n",
    "\n",
    "T = np.linspace(28, 39, 500)[:, np.newaxis] # For graphing\n",
    "\n",
    "n = 2\n",
    "knn = # TODO: initialize a KNN classifier\n",
    "y_pred = # TODO: fit a KNN classifier\n",
    "fit_df = pd.DataFrame({'T': T.reshape((-1,)), 'y_pred': y_pred.reshape((-1,))})\n",
    "\n",
    "sns.lineplot(data = fit_df, x = 'T', y = 'y_pred', color = 'blue')\n",
    "sns.regplot(data = df_train, x = 'lstat', y = 'medv', fit_reg = False, scatter_kws={\"color\": \"black\"}).set(title = f'k = {n}')\n",
    "    \n",
    "plt.xlim([28, 39])\n",
    "plt.show()"
   ]
  },
  {
   "cell_type": "markdown",
   "metadata": {
    "id": "gRYocSRV88H6"
   },
   "source": [
    "Now let's generate some simulated data so observe the bias-variance tradeoff of KNN regression"
   ]
  },
  {
   "cell_type": "code",
   "execution_count": null,
   "metadata": {
    "id": "T-Xb7k9e3bRX"
   },
   "outputs": [],
   "source": [
    "import random\n",
    "\n",
    "def fsq(x):\n",
    "    return pow(x, 2)\n",
    "\n",
    "def get_sim_data(seed, f, sample_size = 100, sd = 0.01):\n",
    "    random.seed(seed)\n",
    "    x = np.random.rand(1,sample_size)\n",
    "    y = np.random.normal(loc = f(x), scale = sd, size = (1, sample_size))  # `loc` is the mean of the distribution, and `scale` is the standard deviation\n",
    "    df = pd.DataFrame(np.concatenate((x,y)).transpose(), columns = ['X', 'Y'])\n",
    "    return df"
   ]
  },
  {
   "cell_type": "code",
   "execution_count": null,
   "metadata": {
    "id": "8LjzFyxU3ev_"
   },
   "outputs": [],
   "source": [
    "x_fixed = np.array(0.9).reshape(-1,1) # a fixed point that we want to make prediction at\n",
    "\n",
    "predictions = pd.DataFrame(columns = ['k = 1', 'k = 5', 'k = 10', 'k = 100'], index = range(0,250))\n",
    "\n",
    "# TODO: implement KNN regressor\n",
    "\n",
    "for i in range(0,250):\n",
    "    sim_data = get_sim_data(seed = random.randint(1000, 10000), f = fsq, sample_size = 100, sd = 0.3)\n",
    "    X_train = np.array(sim_data['X']).reshape(-1, 1)\n",
    "    y_train = np.array(sim_data['Y']).reshape(-1, 1)\n",
    "  \n",
    "    knn1 = # TODO: define a KNN regressor\n",
    "    knn5 = # TODO: define a KNN regressor\n",
    "    knn10 = # TODO: define a KNN regressor\n",
    "    knn100 = # TODO: define a KNN regressor\n",
    "\n",
    "    predictions.loc[i, 'k = 1'] = # TODO: use knn1 to predict y given x_fixed\n",
    "    predictions.loc[i, 'k = 5'] = # TODO: use knn1 to predict y given x_fixed\n",
    "    predictions.loc[i, 'k = 10'] = # TODO: use knn1 to predict y given x_fixed\n",
    "    predictions.loc[i, 'k = 100'] = # TODO: use knn1 to predict y given x_fixed"
   ]
  },
  {
   "cell_type": "code",
   "execution_count": null,
   "metadata": {
    "colab": {
     "base_uri": "https://localhost:8080/",
     "height": 801
    },
    "id": "klJOX-uS5Y-N",
    "outputId": "d2b5f499-0e4e-4634-bc0d-63bd2247bbec"
   },
   "outputs": [],
   "source": [
    "predictions['id'] = np.arange(0,250)\n",
    "\n",
    "predictions_long = pd.melt(predictions, id_vars = 'id', value_vars = ['k = 1', 'k = 5', 'k = 10', 'k = 100'])\n",
    "\n",
    "fig, ax = plt.subplots(figsize=(15, 9))\n",
    "\n",
    "sns.stripplot(data = predictions_long, x = 'variable', y = 'value', ax = ax)\n",
    "sns.boxplot(data = predictions_long, x = 'variable', y = 'value', ax = ax, color = 'lightgrey', medianprops={\"color\": \"coral\"})\n",
    "plt.axhline(y = 0.81, color = 'k', linestyle = '-', label = 'Truth')\n",
    "plt.xlabel('K', fontsize = 12)\n",
    "plt.ylabel('Predictions', fontsize = 12)\n",
    "plt.title('Simulated Predictions for KNN', fontsize = 15)\n",
    "plt.legend()"
   ]
  }
 ],
 "metadata": {
  "colab": {
   "provenance": []
  },
  "kernelspec": {
   "display_name": "Python 3 (ipykernel)",
   "language": "python",
   "name": "python3"
  },
  "language_info": {
   "codemirror_mode": {
    "name": "ipython",
    "version": 3
   },
   "file_extension": ".py",
   "mimetype": "text/x-python",
   "name": "python",
   "nbconvert_exporter": "python",
   "pygments_lexer": "ipython3",
   "version": "3.12.1"
  }
 },
 "nbformat": 4,
 "nbformat_minor": 4
}
